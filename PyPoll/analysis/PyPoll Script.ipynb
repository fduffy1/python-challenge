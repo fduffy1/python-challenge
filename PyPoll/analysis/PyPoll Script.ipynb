{
 "cells": [
  {
   "cell_type": "code",
   "execution_count": 1,
   "metadata": {},
   "outputs": [],
   "source": [
    "# dependencies\n",
    "import pandas as pd\n",
    "import os\n",
    "\n",
    "# import budget_data.csv into a dataframe\n",
    "file = \"Resources/election_data.csv\"\n",
    "vote_df = pd.read_csv(file)"
   ]
  },
  {
   "cell_type": "code",
   "execution_count": 2,
   "metadata": {},
   "outputs": [
    {
     "data": {
      "text/html": [
       "<div>\n",
       "<style scoped>\n",
       "    .dataframe tbody tr th:only-of-type {\n",
       "        vertical-align: middle;\n",
       "    }\n",
       "\n",
       "    .dataframe tbody tr th {\n",
       "        vertical-align: top;\n",
       "    }\n",
       "\n",
       "    .dataframe thead th {\n",
       "        text-align: right;\n",
       "    }\n",
       "</style>\n",
       "<table border=\"1\" class=\"dataframe\">\n",
       "  <thead>\n",
       "    <tr style=\"text-align: right;\">\n",
       "      <th></th>\n",
       "      <th>Voter ID</th>\n",
       "      <th>County</th>\n",
       "      <th>Candidate</th>\n",
       "    </tr>\n",
       "  </thead>\n",
       "  <tbody>\n",
       "    <tr>\n",
       "      <th>0</th>\n",
       "      <td>12864552</td>\n",
       "      <td>Marsh</td>\n",
       "      <td>Khan</td>\n",
       "    </tr>\n",
       "    <tr>\n",
       "      <th>1</th>\n",
       "      <td>17444633</td>\n",
       "      <td>Marsh</td>\n",
       "      <td>Correy</td>\n",
       "    </tr>\n",
       "    <tr>\n",
       "      <th>2</th>\n",
       "      <td>19330107</td>\n",
       "      <td>Marsh</td>\n",
       "      <td>Khan</td>\n",
       "    </tr>\n",
       "    <tr>\n",
       "      <th>3</th>\n",
       "      <td>19865775</td>\n",
       "      <td>Queen</td>\n",
       "      <td>Khan</td>\n",
       "    </tr>\n",
       "    <tr>\n",
       "      <th>4</th>\n",
       "      <td>11927875</td>\n",
       "      <td>Marsh</td>\n",
       "      <td>Khan</td>\n",
       "    </tr>\n",
       "    <tr>\n",
       "      <th>...</th>\n",
       "      <td>...</td>\n",
       "      <td>...</td>\n",
       "      <td>...</td>\n",
       "    </tr>\n",
       "    <tr>\n",
       "      <th>3520996</th>\n",
       "      <td>18050509</td>\n",
       "      <td>Marsh</td>\n",
       "      <td>Khan</td>\n",
       "    </tr>\n",
       "    <tr>\n",
       "      <th>3520997</th>\n",
       "      <td>13060332</td>\n",
       "      <td>Marsh</td>\n",
       "      <td>Khan</td>\n",
       "    </tr>\n",
       "    <tr>\n",
       "      <th>3520998</th>\n",
       "      <td>16754708</td>\n",
       "      <td>Queen</td>\n",
       "      <td>Khan</td>\n",
       "    </tr>\n",
       "    <tr>\n",
       "      <th>3520999</th>\n",
       "      <td>12083146</td>\n",
       "      <td>Queen</td>\n",
       "      <td>Khan</td>\n",
       "    </tr>\n",
       "    <tr>\n",
       "      <th>3521000</th>\n",
       "      <td>14526187</td>\n",
       "      <td>Queen</td>\n",
       "      <td>O'Tooley</td>\n",
       "    </tr>\n",
       "  </tbody>\n",
       "</table>\n",
       "<p>3521001 rows × 3 columns</p>\n",
       "</div>"
      ],
      "text/plain": [
       "         Voter ID County Candidate\n",
       "0        12864552  Marsh      Khan\n",
       "1        17444633  Marsh    Correy\n",
       "2        19330107  Marsh      Khan\n",
       "3        19865775  Queen      Khan\n",
       "4        11927875  Marsh      Khan\n",
       "...           ...    ...       ...\n",
       "3520996  18050509  Marsh      Khan\n",
       "3520997  13060332  Marsh      Khan\n",
       "3520998  16754708  Queen      Khan\n",
       "3520999  12083146  Queen      Khan\n",
       "3521000  14526187  Queen  O'Tooley\n",
       "\n",
       "[3521001 rows x 3 columns]"
      ]
     },
     "execution_count": 2,
     "metadata": {},
     "output_type": "execute_result"
    }
   ],
   "source": [
    "vote_df"
   ]
  },
  {
   "cell_type": "code",
   "execution_count": 8,
   "metadata": {},
   "outputs": [],
   "source": [
    "vote_candidate = pd.DataFrame(vote_df[\"Candidate\"].value_counts().reset_index())\n",
    "vote_county = pd.DataFrame(vote_df[\"County\"].value_counts().reset_index())"
   ]
  },
  {
   "cell_type": "code",
   "execution_count": 9,
   "metadata": {},
   "outputs": [
    {
     "data": {
      "text/html": [
       "<div>\n",
       "<style scoped>\n",
       "    .dataframe tbody tr th:only-of-type {\n",
       "        vertical-align: middle;\n",
       "    }\n",
       "\n",
       "    .dataframe tbody tr th {\n",
       "        vertical-align: top;\n",
       "    }\n",
       "\n",
       "    .dataframe thead th {\n",
       "        text-align: right;\n",
       "    }\n",
       "</style>\n",
       "<table border=\"1\" class=\"dataframe\">\n",
       "  <thead>\n",
       "    <tr style=\"text-align: right;\">\n",
       "      <th></th>\n",
       "      <th>index</th>\n",
       "      <th>Candidate</th>\n",
       "    </tr>\n",
       "  </thead>\n",
       "  <tbody>\n",
       "    <tr>\n",
       "      <th>0</th>\n",
       "      <td>Khan</td>\n",
       "      <td>2218231</td>\n",
       "    </tr>\n",
       "    <tr>\n",
       "      <th>1</th>\n",
       "      <td>Correy</td>\n",
       "      <td>704200</td>\n",
       "    </tr>\n",
       "    <tr>\n",
       "      <th>2</th>\n",
       "      <td>Li</td>\n",
       "      <td>492940</td>\n",
       "    </tr>\n",
       "    <tr>\n",
       "      <th>3</th>\n",
       "      <td>O'Tooley</td>\n",
       "      <td>105630</td>\n",
       "    </tr>\n",
       "  </tbody>\n",
       "</table>\n",
       "</div>"
      ],
      "text/plain": [
       "      index  Candidate\n",
       "0      Khan    2218231\n",
       "1    Correy     704200\n",
       "2        Li     492940\n",
       "3  O'Tooley     105630"
      ]
     },
     "execution_count": 9,
     "metadata": {},
     "output_type": "execute_result"
    }
   ],
   "source": [
    "vote_candidate"
   ]
  },
  {
   "cell_type": "code",
   "execution_count": 10,
   "metadata": {},
   "outputs": [
    {
     "data": {
      "text/html": [
       "<div>\n",
       "<style scoped>\n",
       "    .dataframe tbody tr th:only-of-type {\n",
       "        vertical-align: middle;\n",
       "    }\n",
       "\n",
       "    .dataframe tbody tr th {\n",
       "        vertical-align: top;\n",
       "    }\n",
       "\n",
       "    .dataframe thead th {\n",
       "        text-align: right;\n",
       "    }\n",
       "</style>\n",
       "<table border=\"1\" class=\"dataframe\">\n",
       "  <thead>\n",
       "    <tr style=\"text-align: right;\">\n",
       "      <th></th>\n",
       "      <th>index</th>\n",
       "      <th>County</th>\n",
       "    </tr>\n",
       "  </thead>\n",
       "  <tbody>\n",
       "    <tr>\n",
       "      <th>0</th>\n",
       "      <td>Marsh</td>\n",
       "      <td>2265957</td>\n",
       "    </tr>\n",
       "    <tr>\n",
       "      <th>1</th>\n",
       "      <td>Queen</td>\n",
       "      <td>697203</td>\n",
       "    </tr>\n",
       "    <tr>\n",
       "      <th>2</th>\n",
       "      <td>Bamoo</td>\n",
       "      <td>348658</td>\n",
       "    </tr>\n",
       "    <tr>\n",
       "      <th>3</th>\n",
       "      <td>Trandee</td>\n",
       "      <td>104617</td>\n",
       "    </tr>\n",
       "    <tr>\n",
       "      <th>4</th>\n",
       "      <td>Raffah</td>\n",
       "      <td>104566</td>\n",
       "    </tr>\n",
       "  </tbody>\n",
       "</table>\n",
       "</div>"
      ],
      "text/plain": [
       "     index   County\n",
       "0    Marsh  2265957\n",
       "1    Queen   697203\n",
       "2    Bamoo   348658\n",
       "3  Trandee   104617\n",
       "4   Raffah   104566"
      ]
     },
     "execution_count": 10,
     "metadata": {},
     "output_type": "execute_result"
    }
   ],
   "source": [
    "vote_county"
   ]
  },
  {
   "cell_type": "code",
   "execution_count": 49,
   "metadata": {},
   "outputs": [
    {
     "name": "stdout",
     "output_type": "stream",
     "text": [
      "Khan: (63.0%) 2218231\n",
      "Correy: (20.0%) 704200\n",
      "Li: (14.0%) 492940\n",
      "O'Tooley: (3.0%) 105630\n",
      "Winner: Khan\n"
     ]
    }
   ],
   "source": [
    "total_votes = vote_candidate[\"Candidate\"].sum()\n",
    "vote_str = \"\"\n",
    "for idx, row in vote_candidate.iterrows():\n",
    "    candidate = row[\"index\"]\n",
    "    c_count = row[\"Candidate\"]\n",
    "    c_percent = round(((c_count/total_votes)*100), 2)\n",
    "    print(f\"{candidate}: ({c_percent}%) {c_count}\")\n",
    "    vote_str+=(f\"{candidate}: ({c_percent}%) {c_count}\\n\")\n",
    "win_can = vote_candidate[\"index\"].iloc[0]\n",
    "print(f\"Winner: {win_can}\")\n",
    "vote_str+=(f\"Winner: {win_can}\\n\")    "
   ]
  },
  {
   "cell_type": "code",
   "execution_count": 40,
   "metadata": {},
   "outputs": [
    {
     "name": "stdout",
     "output_type": "stream",
     "text": [
      "Marsh: (64.36%) 2265957\n",
      "Queen: (19.8%) 697203\n",
      "Bamoo: (9.9%) 348658\n",
      "Trandee: (2.97%) 104617\n",
      "Raffah: (2.97%) 104566\n",
      "Winner: Marsh\n"
     ]
    }
   ],
   "source": [
    "total_counties = vote_county[\"County\"].sum()\n",
    "for idx, row in vote_county.iterrows():\n",
    "    county = row[\"index\"]\n",
    "    c_count = row[\"County\"]\n",
    "    c_percent = round(((c_count/total_votes)*100), 2)\n",
    "    print(f\"{county}: ({c_percent}%) {c_count}\")\n",
    "win_county = vote_county[\"index\"].iloc[0]\n",
    "print(f\"Winner: {win_county}\")\n",
    "     "
   ]
  },
  {
   "cell_type": "code",
   "execution_count": 27,
   "metadata": {},
   "outputs": [],
   "source": [
    "# Define the function and have it accept the 'vote_df' as its sole parameter\n",
    "def print_percentages(vote_df):\n",
    "    # For readability, it can help to assign your values to variables with descriptive names\n",
    "    num_votes = []\n",
    "    win_percent = []\n",
    "    candidates = []\n",
    "    total_votes = []"
   ]
  },
  {
   "cell_type": "code",
   "execution_count": 28,
   "metadata": {},
   "outputs": [
    {
     "name": "stdout",
     "output_type": "stream",
     "text": [
      "3521001\n"
     ]
    }
   ],
   "source": [
    "# computing number of rows\n",
    "num_votes = len(vote_df.axes[0])\n",
    "print(num_votes)"
   ]
  },
  {
   "cell_type": "code",
   "execution_count": 50,
   "metadata": {},
   "outputs": [
    {
     "name": "stdout",
     "output_type": "stream",
     "text": [
      "\n",
      "Election Results\n",
      "----------------------------\n",
      "Total Votes: 3521001\n",
      "----------------------------\n",
      "\n",
      "Khan: (63.0%) 2218231\n",
      "Correy: (20.0%) 704200\n",
      "Li: (14.0%) 492940\n",
      "O'Tooley: (3.0%) 105630\n",
      "Winner: Khan\n",
      "\n"
     ]
    }
   ],
   "source": [
    "output = (\n",
    "    f\"\\nElection Results\\n\"\n",
    "    f\"----------------------------\\n\"\n",
    "    f\"Total Votes: {total_votes}\\n\"\n",
    "    f\"----------------------------\\n\" ) \n",
    "print(output)\n",
    "print(vote_str)"
   ]
  },
  {
   "cell_type": "code",
   "execution_count": 51,
   "metadata": {},
   "outputs": [],
   "source": [
    "with open(\"output.txt\",\"w\") as output_txt:\n",
    "    output_txt.write(output)\n",
    "    output_txt.write(vote_str)"
   ]
  },
  {
   "cell_type": "code",
   "execution_count": null,
   "metadata": {},
   "outputs": [],
   "source": []
  }
 ],
 "metadata": {
  "kernelspec": {
   "display_name": "Python 3",
   "language": "python",
   "name": "python3"
  },
  "language_info": {
   "codemirror_mode": {
    "name": "ipython",
    "version": 3
   },
   "file_extension": ".py",
   "mimetype": "text/x-python",
   "name": "python",
   "nbconvert_exporter": "python",
   "pygments_lexer": "ipython3",
   "version": "3.8.5"
  }
 },
 "nbformat": 4,
 "nbformat_minor": 4
}
